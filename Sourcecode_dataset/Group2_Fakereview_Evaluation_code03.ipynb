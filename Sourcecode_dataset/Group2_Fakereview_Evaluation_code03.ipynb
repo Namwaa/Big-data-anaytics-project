{
 "cells": [
  {
   "cell_type": "code",
   "execution_count": 10,
   "metadata": {},
   "outputs": [],
   "source": [
    "from sklearn.metrics import confusion_matrix,accuracy_score,classification_report,roc_curve,roc_auc_score\n",
    "import seaborn as sns\n",
    "import matplotlib.pyplot as plt\n",
    "from tqdm import tqdm\n",
    "import nltk\n",
    "import pandas as pd\n",
    "import numpy as np"
   ]
  },
  {
   "cell_type": "code",
   "execution_count": 4,
   "metadata": {},
   "outputs": [
    {
     "data": {
      "text/html": [
       "<div>\n",
       "<style scoped>\n",
       "    .dataframe tbody tr th:only-of-type {\n",
       "        vertical-align: middle;\n",
       "    }\n",
       "\n",
       "    .dataframe tbody tr th {\n",
       "        vertical-align: top;\n",
       "    }\n",
       "\n",
       "    .dataframe thead th {\n",
       "        text-align: right;\n",
       "    }\n",
       "</style>\n",
       "<table border=\"1\" class=\"dataframe\">\n",
       "  <thead>\n",
       "    <tr style=\"text-align: right;\">\n",
       "      <th></th>\n",
       "      <th>Unnamed: 0</th>\n",
       "      <th>test_comment</th>\n",
       "      <th>sim</th>\n",
       "      <th>y_true</th>\n",
       "    </tr>\n",
       "  </thead>\n",
       "  <tbody>\n",
       "    <tr>\n",
       "      <th>0</th>\n",
       "      <td>0</td>\n",
       "      <td>ร้านนี้อร่อยจริงๆครับเดอะแกงค์ฟันธงเลยยืนยันพา...</td>\n",
       "      <td>0.000000</td>\n",
       "      <td>0</td>\n",
       "    </tr>\n",
       "    <tr>\n",
       "      <th>1</th>\n",
       "      <td>1</td>\n",
       "      <td>ร้านข้าวแกงกะหรี่ญี่ปุ่นอยู่บนชั้น2ของThaniyap...</td>\n",
       "      <td>0.412214</td>\n",
       "      <td>0</td>\n",
       "    </tr>\n",
       "    <tr>\n",
       "      <th>2</th>\n",
       "      <td>2</td>\n",
       "      <td>เป็นอีกร้านที่อยากแนะนำให้คนรู้จักได้มาลองจะบอ...</td>\n",
       "      <td>0.207692</td>\n",
       "      <td>1</td>\n",
       "    </tr>\n",
       "    <tr>\n",
       "      <th>3</th>\n",
       "      <td>3</td>\n",
       "      <td>นัดเพื่อนมาเจอกันที่ร้านParadaiอยากลองเมนูที่ไ...</td>\n",
       "      <td>0.570423</td>\n",
       "      <td>0</td>\n",
       "    </tr>\n",
       "    <tr>\n",
       "      <th>4</th>\n",
       "      <td>4</td>\n",
       "      <td>ร้านโด่งดังด้วยบรรยากาศริมผาแต่บริการ@#$%น้องป...</td>\n",
       "      <td>0.204301</td>\n",
       "      <td>0</td>\n",
       "    </tr>\n",
       "  </tbody>\n",
       "</table>\n",
       "</div>"
      ],
      "text/plain": [
       "   Unnamed: 0                                       test_comment       sim  \\\n",
       "0           0  ร้านนี้อร่อยจริงๆครับเดอะแกงค์ฟันธงเลยยืนยันพา...  0.000000   \n",
       "1           1  ร้านข้าวแกงกะหรี่ญี่ปุ่นอยู่บนชั้น2ของThaniyap...  0.412214   \n",
       "2           2  เป็นอีกร้านที่อยากแนะนำให้คนรู้จักได้มาลองจะบอ...  0.207692   \n",
       "3           3  นัดเพื่อนมาเจอกันที่ร้านParadaiอยากลองเมนูที่ไ...  0.570423   \n",
       "4           4  ร้านโด่งดังด้วยบรรยากาศริมผาแต่บริการ@#$%น้องป...  0.204301   \n",
       "\n",
       "   y_true  \n",
       "0       0  \n",
       "1       0  \n",
       "2       1  \n",
       "3       0  \n",
       "4       0  "
      ]
     },
     "execution_count": 4,
     "metadata": {},
     "output_type": "execute_result"
    }
   ],
   "source": [
    "pre_result = pd.read_csv('pre_result.csv',skipinitialspace=True)\n",
    "pre_result.head()"
   ]
  },
  {
   "cell_type": "code",
   "execution_count": 6,
   "metadata": {},
   "outputs": [
    {
     "name": "stdout",
     "output_type": "stream",
     "text": [
      "      Unnamed: 0                                       test_comment       sim  \\\n",
      "0              0  ร้านนี้อร่อยจริงๆครับเดอะแกงค์ฟันธงเลยยืนยันพา...  0.000000   \n",
      "1              1  ร้านข้าวแกงกะหรี่ญี่ปุ่นอยู่บนชั้น2ของThaniyap...  0.412214   \n",
      "2              2  เป็นอีกร้านที่อยากแนะนำให้คนรู้จักได้มาลองจะบอ...  0.207692   \n",
      "3              3  นัดเพื่อนมาเจอกันที่ร้านParadaiอยากลองเมนูที่ไ...  0.570423   \n",
      "4              4  ร้านโด่งดังด้วยบรรยากาศริมผาแต่บริการ@#$%น้องป...  0.204301   \n",
      "...          ...                                                ...       ...   \n",
      "2414        2414  โอ้กะจู๋สาขาNimcity\\n\\nบรรยากาศ:\\nชอบการตกแต่ง...  0.201439   \n",
      "2415        2415  จริงๆที่แวะร้านนี้เพราะว่าร้านสวยไม่ได้หวังอะไ...  0.196970   \n",
      "2416        2416  ด้วยความที่ข้าวบ้านไม่มีอะไรกินก็เลยขับรถเข้าเ...  0.510345   \n",
      "2417        2417  มากินร้านนี้หลายรอบมาก\\nเพิ่งได้รีวิว\\nมาที่นี...  0.107143   \n",
      "2418        2418  ร้านผัดไทยชื่อดังรสชาติผมว่าธรรมดามากๆแล้วราคา...  0.000000   \n",
      "\n",
      "      y_true  y_est  \n",
      "0          0    0.0  \n",
      "1          0    0.0  \n",
      "2          1    0.0  \n",
      "3          0    1.0  \n",
      "4          0    0.0  \n",
      "...      ...    ...  \n",
      "2414       0    0.0  \n",
      "2415       0    0.0  \n",
      "2416       0    1.0  \n",
      "2417       1    0.0  \n",
      "2418       0    0.0  \n",
      "\n",
      "[2419 rows x 5 columns]\n"
     ]
    }
   ],
   "source": [
    "pre_result.loc[pre_result['sim'] < 0.5, 'y_est'] = 0\n",
    "pre_result.loc[pre_result['sim'] >= 0.5, 'y_est'] = 1 \n",
    "\n",
    "print(pre_result)\n",
    "\n",
    "y_test = pre_result['y_true']\n",
    "pred = pre_result['y_est']\n"
   ]
  },
  {
   "cell_type": "code",
   "execution_count": 7,
   "metadata": {},
   "outputs": [],
   "source": [
    "y_prob = pre_result['sim']"
   ]
  },
  {
   "cell_type": "code",
   "execution_count": 8,
   "metadata": {},
   "outputs": [
    {
     "name": "stderr",
     "output_type": "stream",
     "text": [
      "C:\\ProgramData\\Anaconda3\\lib\\site-packages\\sklearn\\utils\\validation.py:67: FutureWarning: Pass labels=[1, 0] as keyword args. From version 0.25 passing these as positional arguments will result in an error\n",
      "  warnings.warn(\"Pass {} as keyword args. From version 0.25 \"\n",
      "<ipython-input-8-1c44bf2061eb>:9: UserWarning: FixedFormatter should only be used together with FixedLocator\n",
      "  ax.set_xticklabels([''] + labels)\n",
      "<ipython-input-8-1c44bf2061eb>:10: UserWarning: FixedFormatter should only be used together with FixedLocator\n",
      "  ax.set_yticklabels([''] + labels)\n"
     ]
    },
    {
     "name": "stdout",
     "output_type": "stream",
     "text": [
      "[[ 154  472]\n",
      " [ 152 1641]]\n"
     ]
    },
    {
     "data": {
      "image/png": "[encoded data removed]",
      "text/plain": [
       "<Figure size 432x288 with 2 Axes>"
      ]
     },
     "metadata": {
      "needs_background": "light"
     },
     "output_type": "display_data"
    }
   ],
   "source": [
    "labels = [1, 0]\n",
    "cm = confusion_matrix(y_test, pred, labels)\n",
    "print(cm)\n",
    "fig = plt.figure()\n",
    "ax = fig.add_subplot(111)\n",
    "cax = ax.matshow(cm)\n",
    "plt.title('Confusion matrix of the classifier')\n",
    "fig.colorbar(cax)\n",
    "ax.set_xticklabels([''] + labels)\n",
    "ax.set_yticklabels([''] + labels)\n",
    "plt.xlabel('Predicted')\n",
    "plt.ylabel('True')\n",
    "plt.show()"
   ]
  },
  {
   "cell_type": "code",
   "execution_count": 11,
   "metadata": {},
   "outputs": [
    {
     "name": "stdout",
     "output_type": "stream",
     "text": [
      "[0.         0.00159744 0.00798722 ... 0.95207668 0.95207668 1.        ] \n",
      "\n",
      "[0.00000000e+00 5.57724484e-04 5.57724484e-04 ... 8.92359175e-01\n",
      " 8.92916899e-01 1.00000000e+00] \n",
      "\n",
      "[2.         1.         0.93939394 ... 0.03597122 0.0070922  0.        ] \n",
      "\n",
      "0.6631410936032744 \n",
      " \n",
      "\n",
      "No Skill: ROC AUC=0.500\n",
      "LSH: ROC AUC=0.663\n",
      "Threshold value is: 0.31868131868131866\n"
     ]
    },
    {
     "data": {
      "image/png": "[encoded data removed]",
      "text/plain": [
       "<Figure size 432x288 with 1 Axes>"
      ]
     },
     "metadata": {
      "needs_background": "light"
     },
     "output_type": "display_data"
    }
   ],
   "source": [
    "#Use this one\n",
    "def plot_roc_curve(fpr, tpr):\n",
    "    plt.plot(fpr, tpr, color='orange', label='ROC')\n",
    "    plt.plot([0, 1], [0, 1], color='darkblue', linestyle='--', label='No Skill')\n",
    "    plt.scatter(fpr[optimal_idx], tpr[optimal_idx], marker='o', color='black', label='Best')\n",
    "    plt.xlabel('False Positive Rate')\n",
    "    plt.ylabel('True Positive Rate')\n",
    "    plt.title('Receiver Operating Characteristic (ROC) Curve')\n",
    "    plt.legend()\n",
    "    plt.show()\n",
    "\n",
    "# y_true = np.array([0,0, 1, 1,1])\n",
    "# y_scores = np.array([0.0,0.09, .05, .75,1])\n",
    "\n",
    "fpr, tpr, thresholds = roc_curve(y_test, y_prob)\n",
    "print(tpr,'\\n')\n",
    "print(fpr,'\\n')\n",
    "print(thresholds,'\\n')\n",
    "print(roc_auc_score(y_test, y_prob),'\\n','\\n')\n",
    "optimal_idx = np.argmax(tpr - fpr)\n",
    "optimal_threshold = thresholds[optimal_idx]\n",
    "\n",
    "ns_probs = [0 for _ in range(len(y_test))]\n",
    "ns_auc = roc_auc_score(y_test, ns_probs)\n",
    "lr_auc = roc_auc_score(y_test, y_prob)\n",
    "\n",
    "# summarize scores\n",
    "print('No Skill: ROC AUC=%.3f' % (ns_auc))\n",
    "print('LSH: ROC AUC=%.3f' % (lr_auc))\n",
    "print(\"Threshold value is:\", optimal_threshold)\n",
    "plot_roc_curve(fpr, tpr)"
   ]
  },
  {
   "cell_type": "code",
   "execution_count": null,
   "metadata": {},
   "outputs": [],
   "source": []
  }
 ],
 "metadata": {
  "kernelspec": {
   "display_name": "Python 3",
   "language": "python",
   "name": "python3"
  },
  "language_info": {
   "codemirror_mode": {
    "name": "ipython",
    "version": 3
   },
   "file_extension": ".py",
   "mimetype": "text/x-python",
   "name": "python",
   "nbconvert_exporter": "python",
   "pygments_lexer": "ipython3",
   "version": "3.8.3"
  }
 },
 "nbformat": 4,
 "nbformat_minor": 4
}
